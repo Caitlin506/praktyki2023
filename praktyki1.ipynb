{
 "cells": [
  {
   "cell_type": "code",
   "execution_count": 1,
   "metadata": {},
   "outputs": [],
   "source": [
    "import numpy as np\n",
    "import matplotlib.pyplot as plt"
   ]
  },
  {
   "cell_type": "code",
   "execution_count": 2,
   "metadata": {},
   "outputs": [],
   "source": [
    "# Stałe\n",
    "c = 3*10**(8) # light velocity\n"
   ]
  },
  {
   "cell_type": "code",
   "execution_count": 3,
   "metadata": {},
   "outputs": [],
   "source": [
    "# Transfer matrix\n",
    "\n",
    "# a - thicness of layer\n",
    "# n - refractive index of layer\n",
    "# k = n*k_0\n",
    "# |k| = 2 pi / lambda\n",
    "\n",
    "def trans_matrix_a(a,n,omega):\n",
    "    k = omega * n/c\n",
    "    T_a = np.array([[np.cos(k*a),1j/n*np.sin(k*a)],[1j*n*np.sin(k*a),np.cos(k*a)]])\n",
    "    return T_a"
   ]
  },
  {
   "cell_type": "code",
   "execution_count": null,
   "metadata": {},
   "outputs": [],
   "source": []
  },
  {
   "cell_type": "markdown",
   "metadata": {},
   "source": [
    "Lustro Bragga z naprzemiennie ułożonymi warstwami półprzewodnika o współczynnikach załamania n_a=3 i n_b=3.5. \n",
    "\n",
    "Załóżmy że mamy po 6 warstw z każdego rodzaju. Niech grubości warstw a, b będą a =1 i b takie żeby był spełniony warunek n_a * a  = n_b * b. W ten sposób mamy zapewnione interference condition z równania (2.109), co sprawi że lustro będzie miało dobre właściwości odbicia. \n",
    "\n",
    "Poza obszarem lustra załóżmy, że n=1."
   ]
  },
  {
   "cell_type": "code",
   "execution_count": 4,
   "metadata": {},
   "outputs": [],
   "source": [
    "# Parameters\n",
    "n_a = 3\n",
    "n_b = 3.5\n",
    "a = 1\n",
    "b = n_a * a / n_b\n",
    "#print(b)\n",
    "\n",
    "n_out = 1"
   ]
  },
  {
   "cell_type": "code",
   "execution_count": 11,
   "metadata": {},
   "outputs": [
    {
     "name": "stdout",
     "output_type": "stream",
     "text": [
      "[[-0.85714286+0.00000000e+00j  0.        +1.11920603e-16j]\n",
      " [ 0.        +1.06414402e-15j -1.16666667+0.00000000e+00j]]\n",
      "[[0.39656946+0.00000000e+00j 0.        -7.68398563e-16j]\n",
      " [0.        -7.30595369e-15j 2.52162637+0.00000000e+00j]]\n"
     ]
    }
   ],
   "source": [
    "omega = 2 * np.pi * c / 12\n",
    "\n",
    "T_a = trans_matrix_a(a,n_a,omega)\n",
    "T_b = trans_matrix_a(b,n_b,omega)\n",
    "\n",
    "T = np.dot(T_b,T_a) # transition matrix across one ab layer\n",
    "print(T)\n",
    "\n",
    "# transition matrix across m layer structure\n",
    "m = 6\n",
    "T_m = T\n",
    "for i in range(m-1):\n",
    "    T_m = np.dot(T_m,T)\n",
    "print(T_m)\n",
    "\n",
    "# t11 = T_m[0,0]\n",
    "# t12 = T_m[0,1]\n",
    "# t21 = T_m[1,0]\n",
    "# t22 = T_m[1,1]"
   ]
  },
  {
   "cell_type": "code",
   "execution_count": 10,
   "metadata": {},
   "outputs": [
    {
     "name": "stdout",
     "output_type": "stream",
     "text": [
      "0.9517278862493831\n"
     ]
    }
   ],
   "source": [
    "def reflection_coeff(n_left, n_right, Tm):\n",
    "    t11 = Tm[0,0]\n",
    "    t12 = Tm[0,1]\n",
    "    t21 = Tm[1,0]\n",
    "    t22 = Tm[1,1]\n",
    "    num = n_right*t11 + n_left*n_right*t12 - t21 - n_left*t22\n",
    "    denom = t21 - n_left*t22 - n_right*t11 + n_left*n_right*t12\n",
    "    return num/denom\n",
    "\n",
    "rs = reflection_coeff(n_out,n_out,T_m)\n",
    "print(np.abs(rs))"
   ]
  },
  {
   "cell_type": "code",
   "execution_count": 7,
   "metadata": {},
   "outputs": [],
   "source": [
    "def transmission_coeff(n_left, n_right, Tm):\n",
    "    t11 = Tm[0,0]\n",
    "    t12 = Tm[0,1]\n",
    "    t21 = Tm[1,0]\n",
    "    t22 = Tm[1,1]\n",
    "    num = t12*t21 - t11*t22\n",
    "    denom = t21 - n_left*t22 - n_right*t11 + n_left*n_right*t12\n",
    "    return 2*n_left * num/denom\n",
    "\n",
    "ts = transmission_coeff(n_out,n_out,T_m)"
   ]
  },
  {
   "cell_type": "code",
   "execution_count": 8,
   "metadata": {},
   "outputs": [],
   "source": [
    "#np.abs(rs)**2 + np.abs(ts)**2"
   ]
  },
  {
   "cell_type": "code",
   "execution_count": null,
   "metadata": {},
   "outputs": [],
   "source": []
  }
 ],
 "metadata": {
  "kernelspec": {
   "display_name": "Python 3",
   "language": "python",
   "name": "python3"
  },
  "language_info": {
   "codemirror_mode": {
    "name": "ipython",
    "version": 3
   },
   "file_extension": ".py",
   "mimetype": "text/x-python",
   "name": "python",
   "nbconvert_exporter": "python",
   "pygments_lexer": "ipython3",
   "version": "3.8.5"
  }
 },
 "nbformat": 4,
 "nbformat_minor": 4
}
